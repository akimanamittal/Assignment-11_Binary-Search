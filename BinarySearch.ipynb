{
 "cells": [
  {
   "cell_type": "markdown",
   "metadata": {},
   "source": [
    "Question 1: Given a non-negative integer `x`, return *the square root of* `x` *rounded down to the nearest integer*. The returned integer should be **non-negative** as well.\n",
    "You **must not use** any built-in exponent function or operator."
   ]
  },
  {
   "cell_type": "code",
   "execution_count": 1,
   "metadata": {},
   "outputs": [],
   "source": [
    "##Solution 1\n",
    "def sqrt(min,max,x):\n",
    "    while min <= max:\n",
    "        mid = (min+max)//2\n",
    "        sq=mid*mid\n",
    "        if (mid*mid<x) and ((mid+1)*(mid+1))>x:\n",
    "            return mid\n",
    "        elif (mid*mid<x):\n",
    "            return sqrt(min+1,max,x)\n",
    "        else:\n",
    "            return sqrt(min,max-1,x)\n",
    "    return min"
   ]
  },
  {
   "cell_type": "code",
   "execution_count": 3,
   "metadata": {},
   "outputs": [
    {
     "data": {
      "text/plain": [
       "2"
      ]
     },
     "execution_count": 3,
     "metadata": {},
     "output_type": "execute_result"
    }
   ],
   "source": [
    "##output\n",
    "sqrt(0,8,8)"
   ]
  },
  {
   "cell_type": "markdown",
   "metadata": {},
   "source": [
    "Question 2: A peak element is an element that is strictly greater than its neighbors.\n",
    "Given a **0-indexed** integer array `nums`, find a peak element, and return its index. If the array contains multiple peaks, return the index to **any of the peaks**.\n",
    "You may imagine that `nums[-1] = nums[n] = -∞`. In other words, an element is always considered to be strictly greater than a neighbor that is outside the array.\n",
    "You must write an algorithm that runs in `O(log n)` time."
   ]
  },
  {
   "cell_type": "code",
   "execution_count": 6,
   "metadata": {},
   "outputs": [],
   "source": [
    "##Solution 2\n",
    "def findPeak(arr, n):\n",
    "   \n",
    "    l = 0\n",
    "    r = n-1\n",
    "     \n",
    "    while(l <= r):\n",
    " \n",
    "        # finding mid by binary right shifting.\n",
    "        mid = (l + r) >> 1\n",
    " \n",
    "        # first case if mid is the answer\n",
    "        if((mid == 0 or arr[mid - 1] <= arr[mid]) and (mid == n - 1 or arr[mid + 1] <= arr[mid])):\n",
    "            break\n",
    " \n",
    "        # move the right pointer\n",
    "        if(mid > 0 and arr[mid - 1] > arr[mid]):\n",
    "            r = mid - 1\n",
    " \n",
    "        # move the left pointer\n",
    "        else:\n",
    "            l = mid + 1\n",
    " \n",
    "    return mid"
   ]
  },
  {
   "cell_type": "code",
   "execution_count": 7,
   "metadata": {},
   "outputs": [
    {
     "name": "stdout",
     "output_type": "stream",
     "text": [
      "Index of a peak point is 2\n"
     ]
    }
   ],
   "source": [
    "# Output - Driver Code\n",
    "arr = [1, 3, 20, 4, 1, 0]\n",
    "n = len(arr)\n",
    "print(f\"Index of a peak point is {findPeak(arr, n)}\")"
   ]
  },
  {
   "cell_type": "code",
   "execution_count": 8,
   "metadata": {},
   "outputs": [
    {
     "name": "stdout",
     "output_type": "stream",
     "text": [
      "Index of a peak point is 5\n"
     ]
    }
   ],
   "source": [
    "arr = [1,2,1,3,5,6,4]\n",
    "n = len(arr)\n",
    "print(f\"Index of a peak point is {findPeak(arr, n)}\")"
   ]
  },
  {
   "cell_type": "markdown",
   "metadata": {},
   "source": [
    "Question 3: Given an array nums containing n distinct numbers in the range [0, n], return the only number in the range that is missing from the array."
   ]
  },
  {
   "cell_type": "code",
   "execution_count": 9,
   "metadata": {},
   "outputs": [
    {
     "name": "stdout",
     "output_type": "stream",
     "text": [
      "The missing number from the array is 2\n",
      "The missing number from the array is 2\n",
      "The missing number from the array is 8\n"
     ]
    }
   ],
   "source": [
    "##Solution 3\n",
    "def sorts(x,n):\n",
    "    x.sort()\n",
    "    l = 0\n",
    "    h = n\n",
    "    while (l<h):\n",
    "        mid = (l+h)//2\n",
    "        if (x[mid]==mid):\n",
    "            l = mid+1\n",
    "        else:\n",
    "            h = mid-1\n",
    "    return l\n",
    "\n",
    "def main():\n",
    "    a = [3,0,1]\n",
    "    n = len(a)\n",
    "    print(\"The missing number from the array is\",sorts(a,n))\n",
    "    \n",
    "    b=[0,1]\n",
    "    m=len(b)\n",
    "    print(\"The missing number from the array is\",sorts(b,m))\n",
    "\n",
    "    c=[9,6,4,2,3,5,7,0,1]\n",
    "    o=len(c)\n",
    "    print(\"The missing number from the array is\",sorts(c,o))\n",
    "\n",
    "\n",
    "#main code\n",
    "if __name__ == '__main__':\n",
    "    main()"
   ]
  },
  {
   "cell_type": "markdown",
   "metadata": {},
   "source": [
    "Question 4: Given an array of integers `nums` containing `n + 1` integers where each integer is in the range `[1, n]` inclusive.\n",
    "There is only **one repeated number** in `nums`, return *this repeated number*.\n",
    "You must solve the problem **without** modifying the array `nums` and uses only constant extra space."
   ]
  },
  {
   "cell_type": "code",
   "execution_count": 10,
   "metadata": {},
   "outputs": [
    {
     "name": "stdout",
     "output_type": "stream",
     "text": [
      "The duplicate number in the given array is 2\n",
      "The duplicate number in the given array is 3\n"
     ]
    }
   ],
   "source": [
    "def duplicate(num):\n",
    "    l =1\n",
    "    h = len(num)-1\n",
    "    while(l<=h):\n",
    "        mid = (l+h)//2\n",
    "        count=0\n",
    "        for i in range(len(num)):\n",
    "            if (num[i]<=mid):\n",
    "                count=count+1\n",
    "        \n",
    "        if (count<=mid):\n",
    "            l = mid+1\n",
    "        else:\n",
    "            h = mid-1\n",
    "            \n",
    "    return l\n",
    "\n",
    "\n",
    "def main():\n",
    "    nums1 = [1,3,4,2,2]\n",
    "    print(\"The duplicate number in the given array is\",duplicate(nums1))\n",
    "    \n",
    "    nums2=[3,1,3,4,2]\n",
    "    print(\"The duplicate number in the given array is\",duplicate(nums2))\n",
    "    \n",
    "\n",
    "#Main Program\n",
    "if __name__ == \"__main__\":\n",
    "    main()"
   ]
  },
  {
   "cell_type": "markdown",
   "metadata": {},
   "source": [
    "Question 6: Given the sorted rotated array `nums` of **unique** elements, return *the minimum element of this array*.\n",
    "You must write an algorithm that runs in `O(log n) time.`"
   ]
  },
  {
   "cell_type": "code",
   "execution_count": 14,
   "metadata": {},
   "outputs": [
    {
     "name": "stdout",
     "output_type": "stream",
     "text": [
      "The minimum element from the rotated array is 1\n",
      "The minimum element from the rotated array is 0\n"
     ]
    }
   ],
   "source": [
    "##Soultion 6\n",
    "def minimum(nums):\n",
    "    l = 0\n",
    "    h = len(nums)-1\n",
    "    t = min(nums)\n",
    "    while (l<=h):\n",
    "        mid = (l+h)//2\n",
    "        if (nums[mid]==t):\n",
    "            return nums[mid]\n",
    "        \n",
    "        #check if left is sorted\n",
    "        if(nums[l]<=nums[mid]):\n",
    "            if(t>=nums[l] and t<=nums[mid]):\n",
    "                h = mid-1\n",
    "            else:\n",
    "                l = mid+1\n",
    "        #check if right is sorted\n",
    "        else:\n",
    "            if(t>=nums[m] and t<=nums[h]):\n",
    "                l=mid+1\n",
    "            else:\n",
    "                h=mid-1\n",
    "    return -1\n",
    "\n",
    "def main():\n",
    "    x=[3,4,5,1,2]\n",
    "    print(\"The minimum element from the rotated array is\",minimum(x))\n",
    "\n",
    "    y = [4,5,6,7,0,1,2]\n",
    "    print(\"The minimum element from the rotated array is\",minimum(y))\n",
    "\n",
    "#main program\n",
    "if __name__==\"__main__\":\n",
    "    main()"
   ]
  },
  {
   "cell_type": "markdown",
   "metadata": {},
   "source": [
    "Question 7: Given an array of integers `nums` sorted in non-decreasing order, find the starting and ending position of a given `target` value.\n",
    "If `target` is not found in the array, return `[-1, -1]`.\n",
    "You must write an algorithm with `O(log n)` runtime complexity."
   ]
  },
  {
   "cell_type": "code",
   "execution_count": 15,
   "metadata": {},
   "outputs": [],
   "source": [
    "##Solution 7\n",
    "def targetindex(nums, target):\n",
    "    def binary_search_left(nums, target):\n",
    "        left, right = 0, len(nums) - 1\n",
    "        result = -1\n",
    "\n",
    "        while left <= right:\n",
    "            mid = left + (right - left) // 2\n",
    "\n",
    "            if nums[mid] == target:\n",
    "                result = mid\n",
    "                right = mid - 1\n",
    "            elif nums[mid] < target:\n",
    "                left = mid + 1\n",
    "            else:\n",
    "                right = mid - 1\n",
    "\n",
    "        return result\n",
    "\n",
    "    def binary_search_right(nums, target):\n",
    "        left, right = 0, len(nums) - 1\n",
    "        result = -1\n",
    "\n",
    "        while left <= right:\n",
    "            mid = left + (right - left) // 2\n",
    "\n",
    "            if nums[mid] == target:\n",
    "                result = mid\n",
    "                left = mid + 1\n",
    "            elif nums[mid] < target:\n",
    "                left = mid + 1\n",
    "            else:\n",
    "                right = mid - 1\n",
    "\n",
    "        return result\n",
    "\n",
    "    left_idx = binary_search_left(nums, target)\n",
    "    right_idx = binary_search_right(nums, target)\n",
    "\n",
    "    return [left_idx, right_idx]"
   ]
  },
  {
   "cell_type": "code",
   "execution_count": 16,
   "metadata": {},
   "outputs": [
    {
     "name": "stdout",
     "output_type": "stream",
     "text": [
      "Starting and ending positions of 8 in the array: [3, 4]\n"
     ]
    }
   ],
   "source": [
    "nums = [5,7,7,8,8,10]\n",
    "target = 8\n",
    "result = targetindex(nums, target)\n",
    "print(\"Starting and ending positions of\", target, \"in the array:\", result)"
   ]
  },
  {
   "cell_type": "code",
   "execution_count": 17,
   "metadata": {},
   "outputs": [
    {
     "name": "stdout",
     "output_type": "stream",
     "text": [
      "Starting and ending positions of 0 in the array: [-1, -1]\n"
     ]
    }
   ],
   "source": [
    "nums =[]\n",
    "target =0\n",
    "print(\"Starting and ending positions of\", target, \"in the array:\", targetindex(nums,target))"
   ]
  }
 ],
 "metadata": {
  "kernelspec": {
   "display_name": "Python 3.8.10 64-bit",
   "language": "python",
   "name": "python3"
  },
  "language_info": {
   "codemirror_mode": {
    "name": "ipython",
    "version": 3
   },
   "file_extension": ".py",
   "mimetype": "text/x-python",
   "name": "python",
   "nbconvert_exporter": "python",
   "pygments_lexer": "ipython3",
   "version": "3.8.10"
  },
  "orig_nbformat": 4,
  "vscode": {
   "interpreter": {
    "hash": "e7370f93d1d0cde622a1f8e1c04877d8463912d04d973331ad4851f04de6915a"
   }
  }
 },
 "nbformat": 4,
 "nbformat_minor": 2
}
